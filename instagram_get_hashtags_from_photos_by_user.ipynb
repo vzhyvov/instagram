{
 "cells": [
  {
   "cell_type": "code",
   "execution_count": 12,
   "metadata": {},
   "outputs": [],
   "source": [
    "from selenium import webdriver\n",
    "from bs4 import BeautifulSoup as bs\n",
    "import time\n",
    "import re\n",
    "from urllib.request import urlopen\n",
    "import json\n",
    "from pandas.io.json import json_normalize\n",
    "import pandas as pd, numpy as np"
   ]
  },
  {
   "cell_type": "code",
   "execution_count": 151,
   "metadata": {},
   "outputs": [],
   "source": [
    "username='zhyvov'\n",
    "\n",
    "browser = webdriver.Chrome('chromedriver')\n",
    "browser.get('https://www.instagram.com/'+username+'/?hl=en')\n",
    "Pagelength = browser.execute_script(\"(0, document.body.scrollHeight);\")"
   ]
  },
  {
   "cell_type": "code",
   "execution_count": 152,
   "metadata": {},
   "outputs": [],
   "source": [
    "#Extract links from user profile page\n",
    "links=[]\n",
    "source = browser.page_source\n",
    "data=bs(source, 'html.parser')\n",
    "body = data.find('body')\n",
    "script = body.find('script', text=lambda t: t.startswith('window._sharedData'))\n",
    "page_json = script.text.split(' = ', 1)[1].rstrip(';')\n",
    "data = json.loads(page_json)\n",
    "for link in data['entry_data']['ProfilePage'][0]['graphql']['user']['edge_owner_to_timeline_media']['edges']:\n",
    "    links.append('https://www.instagram.com'+'/p/'+link['node']['shortcode']+'/')"
   ]
  },
  {
   "cell_type": "code",
   "execution_count": 153,
   "metadata": {},
   "outputs": [
    {
     "data": {
      "text/plain": [
       "'Zhyvov Vladymyr | artist | contact: zhyvov@mail.ua'"
      ]
     },
     "execution_count": 153,
     "metadata": {},
     "output_type": "execute_result"
    }
   ],
   "source": [
    "data['entry_data']['ProfilePage'][0]['graphql']['user']['biography']"
   ]
  },
  {
   "cell_type": "code",
   "execution_count": 154,
   "metadata": {},
   "outputs": [
    {
     "data": {
      "text/plain": [
       "2859"
      ]
     },
     "execution_count": 154,
     "metadata": {},
     "output_type": "execute_result"
    }
   ],
   "source": [
    "data['entry_data']['ProfilePage'][0]['graphql']['user']['edge_followed_by']['count']"
   ]
  },
  {
   "cell_type": "code",
   "execution_count": 155,
   "metadata": {},
   "outputs": [],
   "source": [
    "list_hashtags=set()\n",
    "num_photos=len(data['entry_data']['ProfilePage'][0]['graphql']['user']['edge_owner_to_timeline_media']['edges'])\n",
    "for i in range(num_photos):\n",
    "    photo_info=data['entry_data']['ProfilePage'][0]['graphql']['user']['edge_owner_to_timeline_media']['edges'][i]['node']['edge_media_to_caption']['edges'][0]['node']['text']\n",
    "    temp_hash={photo_info.strip(\"#\") for photo_info in photo_info.split() if photo_info.startswith(\"#\")}\n",
    "    list_hashtags=list_hashtags.union(temp_hash)"
   ]
  },
  {
   "cell_type": "code",
   "execution_count": 156,
   "metadata": {},
   "outputs": [
    {
     "data": {
      "text/plain": [
       "{'actir',\n",
       " 'artsed',\n",
       " 'artwatchers',\n",
       " 'artwork',\n",
       " 'bosch',\n",
       " 'cake',\n",
       " 'car',\n",
       " 'cocktail#미술',\n",
       " 'contemporaryart',\n",
       " 'design',\n",
       " 'dessert',\n",
       " 'doodle',\n",
       " 'drawing',\n",
       " 'drink',\n",
       " 'fanart',\n",
       " 'fashion',\n",
       " 'fashionart',\n",
       " 'fruits',\n",
       " 'gallery',\n",
       " 'illustration',\n",
       " 'ilovethiswork',\n",
       " 'ink',\n",
       " 'inkart',\n",
       " 'instaart',\n",
       " 'jar',\n",
       " 'landrover',\n",
       " 'photography',\n",
       " 'portrait',\n",
       " 'rangerover',\n",
       " 'realistic',\n",
       " 'sculpture',\n",
       " 'shoes',\n",
       " 'sketch',\n",
       " 'style',\n",
       " 'sweets',\n",
       " 'theatre',\n",
       " 'иллюстрация',\n",
       " 'рисунок',\n",
       " '畫畫',\n",
       " '繪畫',\n",
       " '草圖',\n",
       " '藝術',\n",
       " '그림',\n",
       " '미술',\n",
       " '스케치',\n",
       " '예술가'}"
      ]
     },
     "execution_count": 156,
     "metadata": {},
     "output_type": "execute_result"
    }
   ],
   "source": [
    "list_hashtags"
   ]
  },
  {
   "cell_type": "code",
   "execution_count": null,
   "metadata": {},
   "outputs": [],
   "source": []
  }
 ],
 "metadata": {
  "kernelspec": {
   "display_name": "Python 3",
   "language": "python",
   "name": "python3"
  },
  "language_info": {
   "codemirror_mode": {
    "name": "ipython",
    "version": 3
   },
   "file_extension": ".py",
   "mimetype": "text/x-python",
   "name": "python",
   "nbconvert_exporter": "python",
   "pygments_lexer": "ipython3",
   "version": "3.7.3"
  }
 },
 "nbformat": 4,
 "nbformat_minor": 2
}
